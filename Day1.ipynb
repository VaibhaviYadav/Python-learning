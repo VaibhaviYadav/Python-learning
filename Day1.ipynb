{
  "nbformat": 4,
  "nbformat_minor": 0,
  "metadata": {
    "colab": {
      "name": "Untitled0.ipynb",
      "provenance": [],
      "authorship_tag": "ABX9TyO695pQXEgiXSHjh4kRK1EC",
      "include_colab_link": true
    },
    "kernelspec": {
      "name": "python3",
      "display_name": "Python 3"
    },
    "language_info": {
      "name": "python"
    }
  },
  "cells": [
    {
      "cell_type": "markdown",
      "metadata": {
        "id": "view-in-github",
        "colab_type": "text"
      },
      "source": [
        "<a href=\"https://colab.research.google.com/github/VaibhaviYadav/Python-learning/blob/main/Day1.ipynb\" target=\"_parent\"><img src=\"https://colab.research.google.com/assets/colab-badge.svg\" alt=\"Open In Colab\"/></a>"
      ]
    },
    {
      "cell_type": "code",
      "metadata": {
        "colab": {
          "base_uri": "https://localhost:8080/"
        },
        "id": "nts9xWhfoiAN",
        "outputId": "a370db4e-36c7-43a5-c8e4-29d080e0e8ec"
      },
      "source": [
        "print(\"Hello World\")"
      ],
      "execution_count": 1,
      "outputs": [
        {
          "output_type": "stream",
          "text": [
            "Hello World\n"
          ],
          "name": "stdout"
        }
      ]
    },
    {
      "cell_type": "code",
      "metadata": {
        "id": "C_QY9SQTpQJd"
      },
      "source": [
        "#Mathematical operators"
      ],
      "execution_count": 2,
      "outputs": []
    },
    {
      "cell_type": "code",
      "metadata": {
        "colab": {
          "base_uri": "https://localhost:8080/"
        },
        "id": "uRwSobl1qs91",
        "outputId": "eebcc506-05ab-4a66-ed7d-bcace95ed752"
      },
      "source": [
        "a=int(input(\"enter a number\"))\n",
        "b=int(input(\"enter a number\"))\n",
        "sum=a+b \n",
        "print(\"sum\", sum)"
      ],
      "execution_count": 4,
      "outputs": [
        {
          "output_type": "stream",
          "text": [
            "enter a number1\n",
            "enter a number2\n",
            "sum 3\n"
          ],
          "name": "stdout"
        }
      ]
    },
    {
      "cell_type": "code",
      "metadata": {
        "colab": {
          "base_uri": "https://localhost:8080/"
        },
        "id": "_xk-9XqgwdHm",
        "outputId": "b4d54a04-7c01-4d62-dd52-2caa566f6cda"
      },
      "source": [
        "first_name='Vaibhavi'\n",
        "second_name='Nimisha'\n",
        "print(\"My name is {} and my sister's name is {} .\".format(first_name, second_name))"
      ],
      "execution_count": 7,
      "outputs": [
        {
          "output_type": "stream",
          "text": [
            "My name is Vaibhavi and my sister's name is Nimisha .\n"
          ],
          "name": "stdout"
        }
      ]
    }
  ]
}